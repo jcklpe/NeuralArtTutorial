{
  "nbformat": 4,
  "nbformat_minor": 0,
  "metadata": {
    "colab": {
      "name": "neural-style.ipynb",
      "provenance": [],
      "collapsed_sections": [],
      "include_colab_link": true
    },
    "kernelspec": {
      "name": "python3",
      "display_name": "Python 3"
    },
    "accelerator": "GPU"
  },
  "cells": [
    {
      "cell_type": "markdown",
      "metadata": {
        "id": "view-in-github",
        "colab_type": "text"
      },
      "source": [
        "<a href=\"https://colab.research.google.com/github/jcklpe/neural-art-scripts/blob/master/neural_style.ipynb\" target=\"_parent\"><img src=\"https://colab.research.google.com/assets/colab-badge.svg\" alt=\"Open In Colab\"/></a>"
      ]
    },
    {
      "cell_type": "markdown",
      "metadata": {
        "id": "HuaTzZDfb6tv",
        "colab_type": "text"
      },
      "source": [
        "# **INTRO**\n",
        "\n",
        "Hi, this is a script for installing and running a style transfer neural network in Google's cloud-based collaboratory notebooks. \n",
        "\n",
        "You can also copy and paste these commands into the terminal of your local Linux machine to get the same basic set up. You'll need to install CUDA and CUDNN to your local network first though. \n",
        "\n",
        "You can run each of the commands by selecting the code cell and clicking the play button. \n",
        "\n",
        "### **SETUP**"
      ]
    },
    {
      "cell_type": "markdown",
      "metadata": {
        "id": "_0Nmpwh5A2ac",
        "colab_type": "text"
      },
      "source": [
        "#### **Verify NVIDIA card is hooked up to instance.**"
      ]
    },
    {
      "cell_type": "code",
      "metadata": {
        "id": "U08Nco7ucRIA",
        "colab_type": "code",
        "colab": {}
      },
      "source": [
        "!nvidia-smi"
      ],
      "execution_count": null,
      "outputs": []
    },
    {
      "cell_type": "markdown",
      "metadata": {
        "id": "_-Bt2P1Of2Wf",
        "colab_type": "text"
      },
      "source": [
        "If it's not you need to edit the runtime up in the top menu. "
      ]
    },
    {
      "cell_type": "markdown",
      "metadata": {
        "id": "k-9ozl3UEDL-",
        "colab_type": "text"
      },
      "source": [
        "#### **Import OS library package**\n",
        "This will make it easier to do file system manipulations in python script. We could (and will for some things)run bash subprocesses using the `!` but hey, I thought this would be a fun project to teach myself more python ay!"
      ]
    },
    {
      "cell_type": "code",
      "metadata": {
        "id": "JI37neCgEU0h",
        "colab_type": "code",
        "colab": {}
      },
      "source": [
        "import os"
      ],
      "execution_count": null,
      "outputs": []
    },
    {
      "cell_type": "markdown",
      "metadata": {
        "id": "hzPm3DuGok4r",
        "colab_type": "text"
      },
      "source": [
        "#### **Define project files root**\n",
        "We've written things this way so that it's more portable. "
      ]
    },
    {
      "cell_type": "code",
      "metadata": {
        "id": "IgphVNe9okce",
        "colab_type": "code",
        "colab": {}
      },
      "source": [
        "projectFiles = \"/project-files\"\n",
        "os.makedirs(projectFiles, exist_ok=True)\n"
      ],
      "execution_count": null,
      "outputs": []
    },
    {
      "cell_type": "markdown",
      "metadata": {
        "id": "K3asd_UT9omB",
        "colab_type": "text"
      },
      "source": [
        "#### **Mount your google drive to handle your project files**\n",
        "When you run this it will bring up a link and a form input. Click the link to open an authorization flow to your Google Drive. Then copy the authorization code and paste it into the form. \n",
        "\n",
        "You can see the files in the collaboratory instance file system by clicking the folder icon to the left."
      ]
    },
    {
      "cell_type": "code",
      "metadata": {
        "id": "me00LSqfjpNC",
        "colab_type": "code",
        "colab": {}
      },
      "source": [
        "from google.colab import drive\n",
        "drive.mount(f\"{projectFiles}/gdrive\")"
      ],
      "execution_count": null,
      "outputs": []
    },
    {
      "cell_type": "markdown",
      "metadata": {
        "id": "b7y4SMyIkfq0",
        "colab_type": "text"
      },
      "source": [
        "#### **Set up symlink to Google Drive**\n",
        "The mounted Google Drive contains the folder \"My Drive\" which causes problems for running the scripts due to the space, so we're going to get around that by symlinking to skip that nasty path."
      ]
    },
    {
      "cell_type": "code",
      "metadata": {
        "id": "CE0OkaPCWi-5",
        "colab_type": "code",
        "colab": {}
      },
      "source": [
        "!ln -sfn '/project-files/gdrive/My Drive/neural-network' {projectFiles}/symdrive"
      ],
      "execution_count": null,
      "outputs": []
    },
    {
      "cell_type": "code",
      "metadata": {
        "id": "5WK-Uv9XfZ-l",
        "colab_type": "code",
        "colab": {}
      },
      "source": [
        "symDrive = f'{projectFiles}/symdrive'"
      ],
      "execution_count": null,
      "outputs": []
    },
    {
      "cell_type": "markdown",
      "metadata": {
        "id": "uTcWUMsOlqHj",
        "colab_type": "text"
      },
      "source": [
        "### **Create project variables for project file structure**\n",
        "Creating these variables abstracts the file structure a little bit. It will make more sense in just a sec. "
      ]
    },
    {
      "cell_type": "code",
      "metadata": {
        "id": "qhRlqG1WlwZi",
        "colab_type": "code",
        "colab": {}
      },
      "source": [
        "os.makedirs(f\"{projectFiles}/gdrive/My Drive/neural-network\", exist_ok=True)\n",
        "imageLibrary = f\"{symDrive}/image-library\"\n",
        "contentDir = f\"{symDrive}/content\"\n",
        "styleDir = f\"{symDrive}/style\"\n",
        "outputDir = f\"{symDrive}/output\"\n",
        "neuralScript = f\"{projectFiles}/neural-style-pt/neural_style.py\""
      ],
      "execution_count": null,
      "outputs": []
    },
    {
      "cell_type": "markdown",
      "metadata": {
        "id": "4pMNPkbFY5Is",
        "colab_type": "text"
      },
      "source": [
        "#### **Create project folders**\n",
        "We're going to create a neural-network project folder with 4 sub folders for your project. \n",
        "\n",
        "1. The image-library directory holds all the images you plan on using, both content and style images. Lots of images can be used as both so we're going to keep our reference image library in a flat structure. We'll also create a variable for the directories we create for future use."
      ]
    },
    {
      "cell_type": "code",
      "metadata": {
        "id": "mx1_b--ZSnn-",
        "colab_type": "code",
        "colab": {}
      },
      "source": [
        "os.makedirs(imageLibrary, exist_ok=True)"
      ],
      "execution_count": null,
      "outputs": []
    },
    {
      "cell_type": "markdown",
      "metadata": {
        "id": "P6RQOh0ZQluD",
        "colab_type": "text"
      },
      "source": [
        "2. This script runs as a batch process so you can process a lot of images and styles automatically. Copy/paste the images you want to run into the content and style folders. These will be cross referenced against each other and exported to the output folder. "
      ]
    },
    {
      "cell_type": "code",
      "metadata": {
        "id": "04uRPIAzQn31",
        "colab_type": "code",
        "colab": {}
      },
      "source": [
        "os.makedirs(contentDir, exist_ok=True)\n",
        "os.makedirs(styleDir, exist_ok=True)"
      ],
      "execution_count": null,
      "outputs": []
    },
    {
      "cell_type": "markdown",
      "metadata": {
        "id": "DV50yNSDQ3M4",
        "colab_type": "text"
      },
      "source": [
        "3. And the aformentioned output folder."
      ]
    },
    {
      "cell_type": "code",
      "metadata": {
        "id": "Qoq1J1YzQ33R",
        "colab_type": "code",
        "colab": {}
      },
      "source": [
        "os.makedirs(outputDir, exist_ok=True)\n"
      ],
      "execution_count": null,
      "outputs": []
    },
    {
      "cell_type": "markdown",
      "metadata": {
        "id": "fh2dIzHO8_D9",
        "colab_type": "text"
      },
      "source": [
        "#### **Git clone the neural style project, and install the python dependencies**"
      ]
    },
    {
      "cell_type": "code",
      "metadata": {
        "id": "-wI_KzQNb2zl",
        "colab_type": "code",
        "colab": {}
      },
      "source": [
        "os.chdir(projectFiles)\n",
        "!git clone https://github.com/ProGamerGov/neural-style-pt.git \n",
        "!pip install neural-style\n",
        "!pip install torch torchvision\n"
      ],
      "execution_count": null,
      "outputs": []
    },
    {
      "cell_type": "markdown",
      "metadata": {
        "id": "ZNGXRD1k9JvH",
        "colab_type": "text"
      },
      "source": [
        "#### **Git clone pytorch and then run it's install script**"
      ]
    },
    {
      "cell_type": "code",
      "metadata": {
        "id": "z5I_aO1ReqJs",
        "colab_type": "code",
        "colab": {}
      },
      "source": [
        "!git clone --recursive https://github.com/pytorch/pytorch\n",
        "os.chdir(f\"{projectFiles}/pytorch\")\n",
        "!python setup.py install"
      ],
      "execution_count": null,
      "outputs": []
    },
    {
      "cell_type": "markdown",
      "metadata": {
        "id": "jWlmM2E_9Qov",
        "colab_type": "text"
      },
      "source": [
        "#### **Using the neural-style python project installed via pip, install the models into the neural-style-pt/models**"
      ]
    },
    {
      "cell_type": "code",
      "metadata": {
        "id": "tiEv0OAfdGMM",
        "colab_type": "code",
        "colab": {}
      },
      "source": [
        "!neural-style -download_models /project-files/neural-style-pt/models/"
      ],
      "execution_count": null,
      "outputs": []
    },
    {
      "cell_type": "markdown",
      "metadata": {
        "id": "U1TbBXF0EMf2",
        "colab_type": "text"
      },
      "source": [
        "#### **Define batch process function**"
      ]
    },
    {
      "cell_type": "code",
      "metadata": {
        "id": "rHXcTSEbKSvk",
        "colab_type": "code",
        "colab": {}
      },
      "source": [
        "def batchNeural(contentImages, styleImages):\n",
        "  # move to neural-styles-pt folder context to properly run the command\n",
        "  os.chdir(f\"{projectFiles}/neural-style-pt\")\n",
        "\n",
        "  # iterate through all files in the content folder\n",
        "  for contentEntry in os.scandir(contentImages):\n",
        "\n",
        "    # isolate the name of the content image without the extension or path and set to variable.  \n",
        "    contentFileName = os.path.splitext(contentEntry.name)[0] \n",
        "\n",
        "    # make a folder to contain all output of a content kind \n",
        "    os.makedirs(f\"{outputDir}/{contentFileName}\", exist_ok=True) \n",
        "\n",
        "    # iterate through all files in the style folder   \n",
        "    for styleEntry in os.scandir(styleImages):\n",
        "\n",
        "      # isolate the name of the style image without the extension or path and set to variable.\n",
        "      styleFileName = os.path.splitext(styleEntry.name)[0]\n",
        "      !python {neuralScript} -style_image {styleDir}/{styleEntry.name} -content_image {contentDir}/{contentEntry.name} -save_iter 400 -image_size 600 -num_iterations 1200 -backend cudnn -output_image {outputDir}/{contentFileName}/{styleFileName}-{contentFileName}.png \n",
        "      print(\"===================\")\n",
        "      print(f\"The '{styleFileName}' style was applied to '{contentFileName}' content image\")\n",
        "      print(\"======================================\")\n"
      ],
      "execution_count": null,
      "outputs": []
    },
    {
      "cell_type": "markdown",
      "metadata": {
        "id": "TWt31kKyahEH",
        "colab_type": "text"
      },
      "source": [
        "### **RUN THE SCRIPT!**\n",
        "Make sure your files are set up in the right folders and invoke the function"
      ]
    },
    {
      "cell_type": "code",
      "metadata": {
        "id": "8vivv1tAaqIo",
        "colab_type": "code",
        "colab": {}
      },
      "source": [
        "batchNeural(contentDir, styleDir)"
      ],
      "execution_count": null,
      "outputs": []
    }
  ]
}